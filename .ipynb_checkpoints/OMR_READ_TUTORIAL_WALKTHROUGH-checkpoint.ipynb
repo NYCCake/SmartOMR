{
 "cells": [
  {
   "cell_type": "code",
   "execution_count": 3,
   "metadata": {},
   "outputs": [],
   "source": [
    "from imutils.perspective import four_point_transform\n",
    "from imutils import contours\n",
    "import numpy as np\n",
    "import argparse\n",
    "import imutils\n",
    "import cv2"
   ]
  },
  {
   "cell_type": "code",
   "execution_count": 4,
   "metadata": {},
   "outputs": [],
   "source": [
    "path = \"./OMR.jpg\"\n",
    "image = cv2.imread(path)"
   ]
  },
  {
   "cell_type": "code",
   "execution_count": 5,
   "metadata": {},
   "outputs": [],
   "source": [
    "\n",
    "# load the image, convert it to grayscale, blur it\n",
    "# slightly, then find edges\n",
    "\n",
    "gray = cv2.cvtColor(image, cv2.COLOR_BGR2GRAY)\n",
    "blurred = cv2.GaussianBlur(gray, (5, 5), 0)\n",
    "edged = cv2.Canny(blurred, 75, 200)\n",
    "\n",
    "# find contours in the edge map, then initialize\n",
    "# the contour that corresponds to the document\n",
    "cnts = cv2.findContours(edged.copy(), cv2.RETR_EXTERNAL,\n",
    "\tcv2.CHAIN_APPROX_SIMPLE)\n",
    "cnts = imutils.grab_contours(cnts)\n",
    "docCnt = None\n",
    "# ensure that at least one contour was found\n",
    "if len(cnts) > 0:\n",
    "\t# sort the contours according to their size in\n",
    "\t# descending order\n",
    "\tcnts = sorted(cnts, key=cv2.contourArea, reverse=True)\n",
    "\t# loop over the sorted contours\n",
    "\tfor c in cnts:\n",
    "\t\t# approximate the contour\n",
    "\t\tperi = cv2.arcLength(c, True)\n",
    "\t\tapprox = cv2.approxPolyDP(c, 0.02 * peri, True)\n",
    "\t\t# if our approximated contour has four points,\n",
    "\t\t# then we can assume we have found the paper\n",
    "\t\tif len(approx) == 4:\n",
    "\t\t\tdocCnt = approx\n",
    "\t\t\tbreak\n",
    "\n",
    "\n"
   ]
  }
 ],
 "metadata": {
  "kernelspec": {
   "display_name": "Python 3",
   "language": "python",
   "name": "python3"
  },
  "language_info": {
   "codemirror_mode": {
    "name": "ipython",
    "version": 3
   },
   "file_extension": ".py",
   "mimetype": "text/x-python",
   "name": "python",
   "nbconvert_exporter": "python",
   "pygments_lexer": "ipython3",
   "version": "3.9.1"
  }
 },
 "nbformat": 4,
 "nbformat_minor": 4
}
